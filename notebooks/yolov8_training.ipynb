{
 "cells": [
  {
   "cell_type": "code",
   "execution_count": null,
   "metadata": {},
   "outputs": [],
   "source": [
    "from src.models.yolov8 import YOLOv8Model"
   ]
  },
  {
   "cell_type": "code",
   "execution_count": null,
   "metadata": {},
   "outputs": [],
   "source": [
    "yolo_model = YOLOv8Model()"
   ]
  },
  {
   "cell_type": "code",
   "execution_count": null,
   "metadata": {},
   "outputs": [],
   "source": [
    "# Train the model\n",
    "train_results = yolo_model.train(\n",
    "    data=\"coco8.yaml\", \n",
    "    epochs=100, \n",
    "    imgsz=640, \n",
    "    device=\"cpu\", \n",
    "    batch_size=16, \n",
    "    save=True, \n",
    "    save_period=1, \n",
    "    project=\"YOLOv8_project\", \n",
    "    name=\"experiment_01\", \n",
    "    exist_ok=True, \n",
    "    optimizer=\"AdamW\", \n",
    "    seed=43, \n",
    "    resume=True, \n",
    "    fraction=0.8, \n",
    "    lr0=1e-4, \n",
    "    lrf=0.01\n",
    ")\n"
   ]
  },
  {
   "cell_type": "code",
   "execution_count": null,
   "metadata": {},
   "outputs": [],
   "source": [
    "# Evaluate the model\n",
    "eval_results = yolo_model.evaluate(data=\"coco8.yaml\")"
   ]
  },
  {
   "cell_type": "code",
   "execution_count": null,
   "metadata": {},
   "outputs": [],
   "source": [
    "# Run inference on an image\n",
    "predictions = yolo_model.predict(\"path/to/bus.jpg\")"
   ]
  },
  {
   "cell_type": "code",
   "execution_count": null,
   "metadata": {},
   "outputs": [],
   "source": [
    "# Display or analyze the results\n",
    "print(\"Training Results:\", train_results)\n",
    "print(\"Evaluation Results:\", eval_results)\n",
    "print(\"Predictions:\", predictions)"
   ]
  }
 ],
 "metadata": {
  "kernelspec": {
   "display_name": "virtual_env",
   "language": "python",
   "name": "python3"
  },
  "language_info": {
   "codemirror_mode": {
    "name": "ipython",
    "version": 3
   },
   "file_extension": ".py",
   "mimetype": "text/x-python",
   "name": "python",
   "nbconvert_exporter": "python",
   "pygments_lexer": "ipython3",
   "version": "3.10.9"
  }
 },
 "nbformat": 4,
 "nbformat_minor": 2
}
